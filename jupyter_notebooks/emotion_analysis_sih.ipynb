{
 "cells": [
  {
   "cell_type": "code",
   "execution_count": null,
   "id": "6a176065",
   "metadata": {},
   "outputs": [],
   "source": [
    "import re\n",
    "import nltk\n",
    "import string\n",
    "import numpy as np\n",
    "import pandas as pd\n",
    "import seaborn as sns\n",
    "import matplotlib.pyplot as plt\n",
    "from nltk.corpus import stopwords\n",
    "from nltk.stem import SnowballStemmer, WordNetLemmatizer\n",
    "\n",
    "\n",
    "from sklearn.preprocessing import LabelEncoder\n",
    "from sklearn.model_selection import train_test_split\n",
    "\n",
    "from tensorflow.keras.utils import to_categorical\n",
    "from tensorflow.keras.preprocessing.text import Tokenizer\n",
    "from tensorflow.keras.preprocessing.sequence import pad_sequences\n",
    "\n",
    "from tensorflow.keras.optimizers import Adam\n",
    "from tensorflow.keras.models import Sequential\n",
    "from tensorflow.keras.callbacks import EarlyStopping\n",
    "from tensorflow.keras.layers import Dense, LSTM, Embedding, Bidirectional\n",
    "\n",
    "#nltk.download(\"stopwords\")\n",
    "stop_words = set(stopwords.words(\"english\"))\n",
    "lemmatizer= WordNetLemmatizer()\n",
    "\n",
    "# Modelling\n",
    "\n",
    "from sklearn.metrics import accuracy_score,confusion_matrix, classification_report\n",
    "from sklearn.pipeline import Pipeline\n",
    "from sklearn.metrics import f1_score\n",
    "\n",
    "\n",
    "#Lime\n",
    "from lime import lime_text\n",
    "from lime.lime_text import LimeTextExplainer\n",
    "from lime.lime_text import IndexedString,IndexedCharacters\n",
    "from lime.lime_base import LimeBase\n",
    "from lime.lime_text import explanation\n",
    "sns.set(font_scale=1.3)\n",
    "nltk.download('omw-1.4')"
   ]
  },
  {
   "cell_type": "code",
   "execution_count": 2,
   "id": "87934c62",
   "metadata": {},
   "outputs": [],
   "source": [
    "# importing the dataset \n",
    "df_train = pd.read_csv('train.txt', header =None, sep =';', names = ['Text','Emotion'], encoding='utf-8')\n",
    "df_test = pd.read_csv('test.txt', header = None, sep =';', names = ['Text','Emotion'],encoding='utf-8')\n",
    "df_val=pd.read_csv('val.txt',header=None,sep=';',names=['Text','Emotion'],encoding='utf-8')"
   ]
  },
  {
   "cell_type": "code",
   "execution_count": 3,
   "id": "ef28516a",
   "metadata": {},
   "outputs": [
    {
     "data": {
      "text/html": [
       "<div>\n",
       "<style scoped>\n",
       "    .dataframe tbody tr th:only-of-type {\n",
       "        vertical-align: middle;\n",
       "    }\n",
       "\n",
       "    .dataframe tbody tr th {\n",
       "        vertical-align: top;\n",
       "    }\n",
       "\n",
       "    .dataframe thead th {\n",
       "        text-align: right;\n",
       "    }\n",
       "</style>\n",
       "<table border=\"1\" class=\"dataframe\">\n",
       "  <thead>\n",
       "    <tr style=\"text-align: right;\">\n",
       "      <th></th>\n",
       "      <th>Text</th>\n",
       "      <th>Emotion</th>\n",
       "    </tr>\n",
       "  </thead>\n",
       "  <tbody>\n",
       "    <tr>\n",
       "      <th>0</th>\n",
       "      <td>i didnt feel humiliated</td>\n",
       "      <td>sadness</td>\n",
       "    </tr>\n",
       "    <tr>\n",
       "      <th>1</th>\n",
       "      <td>i can go from feeling so hopeless to so damned...</td>\n",
       "      <td>sadness</td>\n",
       "    </tr>\n",
       "    <tr>\n",
       "      <th>2</th>\n",
       "      <td>im grabbing a minute to post i feel greedy wrong</td>\n",
       "      <td>anger</td>\n",
       "    </tr>\n",
       "    <tr>\n",
       "      <th>3</th>\n",
       "      <td>i am ever feeling nostalgic about the fireplac...</td>\n",
       "      <td>love</td>\n",
       "    </tr>\n",
       "    <tr>\n",
       "      <th>4</th>\n",
       "      <td>i am feeling grouchy</td>\n",
       "      <td>anger</td>\n",
       "    </tr>\n",
       "  </tbody>\n",
       "</table>\n",
       "</div>"
      ],
      "text/plain": [
       "                                                Text  Emotion\n",
       "0                            i didnt feel humiliated  sadness\n",
       "1  i can go from feeling so hopeless to so damned...  sadness\n",
       "2   im grabbing a minute to post i feel greedy wrong    anger\n",
       "3  i am ever feeling nostalgic about the fireplac...     love\n",
       "4                               i am feeling grouchy    anger"
      ]
     },
     "execution_count": 3,
     "metadata": {},
     "output_type": "execute_result"
    }
   ],
   "source": [
    "df_full = pd.concat([df_train,df_test,df_val], axis = 0)\n",
    "df_full.head(5)"
   ]
  },
  {
   "cell_type": "code",
   "execution_count": 4,
   "id": "b046437c",
   "metadata": {},
   "outputs": [],
   "source": [
    "#removing duplicated values\n",
    "index = df_train[df_train.duplicated() == True].index\n",
    "df_train.drop(index, axis = 0, inplace = True)\n",
    "df_train.reset_index(inplace=True, drop = True)"
   ]
  },
  {
   "cell_type": "code",
   "execution_count": 5,
   "id": "39d4a388",
   "metadata": {},
   "outputs": [
    {
     "data": {
      "text/html": [
       "<div>\n",
       "<style scoped>\n",
       "    .dataframe tbody tr th:only-of-type {\n",
       "        vertical-align: middle;\n",
       "    }\n",
       "\n",
       "    .dataframe tbody tr th {\n",
       "        vertical-align: top;\n",
       "    }\n",
       "\n",
       "    .dataframe thead th {\n",
       "        text-align: right;\n",
       "    }\n",
       "</style>\n",
       "<table border=\"1\" class=\"dataframe\">\n",
       "  <thead>\n",
       "    <tr style=\"text-align: right;\">\n",
       "      <th></th>\n",
       "      <th>Text</th>\n",
       "      <th>Emotion</th>\n",
       "    </tr>\n",
       "  </thead>\n",
       "  <tbody>\n",
       "    <tr>\n",
       "      <th>5067</th>\n",
       "      <td>i feel on the verge of tears from weariness i ...</td>\n",
       "      <td>joy</td>\n",
       "    </tr>\n",
       "    <tr>\n",
       "      <th>6133</th>\n",
       "      <td>i still feel a craving for sweet food</td>\n",
       "      <td>love</td>\n",
       "    </tr>\n",
       "    <tr>\n",
       "      <th>6563</th>\n",
       "      <td>i tend to stop breathing when i m feeling stre...</td>\n",
       "      <td>anger</td>\n",
       "    </tr>\n",
       "    <tr>\n",
       "      <th>7623</th>\n",
       "      <td>i was intensely conscious of how much cash i h...</td>\n",
       "      <td>sadness</td>\n",
       "    </tr>\n",
       "    <tr>\n",
       "      <th>7685</th>\n",
       "      <td>im still not sure why reilly feels the need to...</td>\n",
       "      <td>surprise</td>\n",
       "    </tr>\n",
       "    <tr>\n",
       "      <th>8246</th>\n",
       "      <td>i am not amazing or great at photography but i...</td>\n",
       "      <td>love</td>\n",
       "    </tr>\n",
       "    <tr>\n",
       "      <th>9596</th>\n",
       "      <td>ive also made it with both sugar measurements ...</td>\n",
       "      <td>joy</td>\n",
       "    </tr>\n",
       "    <tr>\n",
       "      <th>9687</th>\n",
       "      <td>i had to choose the sleek and smoother feel of...</td>\n",
       "      <td>joy</td>\n",
       "    </tr>\n",
       "    <tr>\n",
       "      <th>9769</th>\n",
       "      <td>i often find myself feeling assaulted by a mul...</td>\n",
       "      <td>sadness</td>\n",
       "    </tr>\n",
       "    <tr>\n",
       "      <th>9786</th>\n",
       "      <td>i feel im being generous with that statement</td>\n",
       "      <td>joy</td>\n",
       "    </tr>\n",
       "    <tr>\n",
       "      <th>10117</th>\n",
       "      <td>i feel pretty tortured because i work a job an...</td>\n",
       "      <td>fear</td>\n",
       "    </tr>\n",
       "    <tr>\n",
       "      <th>10581</th>\n",
       "      <td>i feel most passionate about</td>\n",
       "      <td>joy</td>\n",
       "    </tr>\n",
       "    <tr>\n",
       "      <th>11273</th>\n",
       "      <td>i was so stubborn and that it took you getting...</td>\n",
       "      <td>joy</td>\n",
       "    </tr>\n",
       "    <tr>\n",
       "      <th>11354</th>\n",
       "      <td>i write these words i feel sweet baby kicks fr...</td>\n",
       "      <td>love</td>\n",
       "    </tr>\n",
       "    <tr>\n",
       "      <th>11525</th>\n",
       "      <td>i feel a remembrance of the strange by justin ...</td>\n",
       "      <td>fear</td>\n",
       "    </tr>\n",
       "    <tr>\n",
       "      <th>11823</th>\n",
       "      <td>i have chose for myself that makes me feel ama...</td>\n",
       "      <td>joy</td>\n",
       "    </tr>\n",
       "    <tr>\n",
       "      <th>12441</th>\n",
       "      <td>i still feel completely accepted</td>\n",
       "      <td>love</td>\n",
       "    </tr>\n",
       "    <tr>\n",
       "      <th>12562</th>\n",
       "      <td>i feel so weird about it</td>\n",
       "      <td>surprise</td>\n",
       "    </tr>\n",
       "    <tr>\n",
       "      <th>12892</th>\n",
       "      <td>i cant escape the tears of sadness and just tr...</td>\n",
       "      <td>joy</td>\n",
       "    </tr>\n",
       "    <tr>\n",
       "      <th>13236</th>\n",
       "      <td>i feel like a tortured artist when i talk to her</td>\n",
       "      <td>anger</td>\n",
       "    </tr>\n",
       "    <tr>\n",
       "      <th>13879</th>\n",
       "      <td>i feel like i am very passionate about youtube...</td>\n",
       "      <td>love</td>\n",
       "    </tr>\n",
       "    <tr>\n",
       "      <th>14106</th>\n",
       "      <td>i feel kind of strange</td>\n",
       "      <td>surprise</td>\n",
       "    </tr>\n",
       "    <tr>\n",
       "      <th>14313</th>\n",
       "      <td>i could feel myself hit this strange foggy wall</td>\n",
       "      <td>surprise</td>\n",
       "    </tr>\n",
       "    <tr>\n",
       "      <th>14633</th>\n",
       "      <td>i feel pretty weird blogging about deodorant b...</td>\n",
       "      <td>fear</td>\n",
       "    </tr>\n",
       "    <tr>\n",
       "      <th>14925</th>\n",
       "      <td>i resorted to yesterday the post peak day of i...</td>\n",
       "      <td>fear</td>\n",
       "    </tr>\n",
       "    <tr>\n",
       "      <th>15314</th>\n",
       "      <td>i will feel as though i am accepted by as well...</td>\n",
       "      <td>joy</td>\n",
       "    </tr>\n",
       "    <tr>\n",
       "      <th>15328</th>\n",
       "      <td>i shy away from songs that talk about how i fe...</td>\n",
       "      <td>joy</td>\n",
       "    </tr>\n",
       "    <tr>\n",
       "      <th>15571</th>\n",
       "      <td>i bet taylor swift basks in the knowledge that...</td>\n",
       "      <td>anger</td>\n",
       "    </tr>\n",
       "    <tr>\n",
       "      <th>15704</th>\n",
       "      <td>i began to feel accepted by gaia on her own terms</td>\n",
       "      <td>joy</td>\n",
       "    </tr>\n",
       "    <tr>\n",
       "      <th>15875</th>\n",
       "      <td>i was sitting in the corner stewing in my own ...</td>\n",
       "      <td>anger</td>\n",
       "    </tr>\n",
       "  </tbody>\n",
       "</table>\n",
       "</div>"
      ],
      "text/plain": [
       "                                                    Text   Emotion\n",
       "5067   i feel on the verge of tears from weariness i ...       joy\n",
       "6133               i still feel a craving for sweet food      love\n",
       "6563   i tend to stop breathing when i m feeling stre...     anger\n",
       "7623   i was intensely conscious of how much cash i h...   sadness\n",
       "7685   im still not sure why reilly feels the need to...  surprise\n",
       "8246   i am not amazing or great at photography but i...      love\n",
       "9596   ive also made it with both sugar measurements ...       joy\n",
       "9687   i had to choose the sleek and smoother feel of...       joy\n",
       "9769   i often find myself feeling assaulted by a mul...   sadness\n",
       "9786        i feel im being generous with that statement       joy\n",
       "10117  i feel pretty tortured because i work a job an...      fear\n",
       "10581                       i feel most passionate about       joy\n",
       "11273  i was so stubborn and that it took you getting...       joy\n",
       "11354  i write these words i feel sweet baby kicks fr...      love\n",
       "11525  i feel a remembrance of the strange by justin ...      fear\n",
       "11823  i have chose for myself that makes me feel ama...       joy\n",
       "12441                   i still feel completely accepted      love\n",
       "12562                           i feel so weird about it  surprise\n",
       "12892  i cant escape the tears of sadness and just tr...       joy\n",
       "13236   i feel like a tortured artist when i talk to her     anger\n",
       "13879  i feel like i am very passionate about youtube...      love\n",
       "14106                             i feel kind of strange  surprise\n",
       "14313    i could feel myself hit this strange foggy wall  surprise\n",
       "14633  i feel pretty weird blogging about deodorant b...      fear\n",
       "14925  i resorted to yesterday the post peak day of i...      fear\n",
       "15314  i will feel as though i am accepted by as well...       joy\n",
       "15328  i shy away from songs that talk about how i fe...       joy\n",
       "15571  i bet taylor swift basks in the knowledge that...     anger\n",
       "15704  i began to feel accepted by gaia on her own terms       joy\n",
       "15875  i was sitting in the corner stewing in my own ...     anger"
      ]
     },
     "execution_count": 5,
     "metadata": {},
     "output_type": "execute_result"
    }
   ],
   "source": [
    "#print the rows which are duplicated (duplicated in the text but with different emotions)\n",
    "df_train[df_train['Text'].duplicated() == True]"
   ]
  },
  {
   "cell_type": "code",
   "execution_count": 6,
   "id": "e6202852",
   "metadata": {},
   "outputs": [
    {
     "data": {
      "text/html": [
       "<div>\n",
       "<style scoped>\n",
       "    .dataframe tbody tr th:only-of-type {\n",
       "        vertical-align: middle;\n",
       "    }\n",
       "\n",
       "    .dataframe tbody tr th {\n",
       "        vertical-align: top;\n",
       "    }\n",
       "\n",
       "    .dataframe thead th {\n",
       "        text-align: right;\n",
       "    }\n",
       "</style>\n",
       "<table border=\"1\" class=\"dataframe\">\n",
       "  <thead>\n",
       "    <tr style=\"text-align: right;\">\n",
       "      <th></th>\n",
       "      <th>Text</th>\n",
       "      <th>Emotion</th>\n",
       "    </tr>\n",
       "  </thead>\n",
       "  <tbody>\n",
       "    <tr>\n",
       "      <th>1625</th>\n",
       "      <td>i was intensely conscious of how much cash i h...</td>\n",
       "      <td>anger</td>\n",
       "    </tr>\n",
       "    <tr>\n",
       "      <th>7623</th>\n",
       "      <td>i was intensely conscious of how much cash i h...</td>\n",
       "      <td>sadness</td>\n",
       "    </tr>\n",
       "  </tbody>\n",
       "</table>\n",
       "</div>"
      ],
      "text/plain": [
       "                                                   Text  Emotion\n",
       "1625  i was intensely conscious of how much cash i h...    anger\n",
       "7623  i was intensely conscious of how much cash i h...  sadness"
      ]
     },
     "execution_count": 6,
     "metadata": {},
     "output_type": "execute_result"
    }
   ],
   "source": [
    "#print some of those rows to check\n",
    "df_train[df_train['Text'] == df_train.iloc[7623]['Text']]"
   ]
  },
  {
   "cell_type": "code",
   "execution_count": 7,
   "id": "f605b103",
   "metadata": {},
   "outputs": [],
   "source": [
    "#removing duplicated text \n",
    "index = df_train[df_train['Text'].duplicated() == True].index\n",
    "df_train.drop(index, axis = 0, inplace = True)\n",
    "df_train.reset_index(inplace=True, drop = True)"
   ]
  },
  {
   "cell_type": "code",
   "execution_count": 8,
   "id": "c46cabed",
   "metadata": {},
   "outputs": [
    {
     "data": {
      "text/plain": [
       "5     1416\n",
       "7     1405\n",
       "6     1392\n",
       "4     1341\n",
       "8     1319\n",
       "3     1263\n",
       "9     1177\n",
       "10    1048\n",
       "2      922\n",
       "11     889\n",
       "12     752\n",
       "13     644\n",
       "14     493\n",
       "1      450\n",
       "15     376\n",
       "16     265\n",
       "17     238\n",
       "18     164\n",
       "19     113\n",
       "20      90\n",
       "0       79\n",
       "21      60\n",
       "22      33\n",
       "23      19\n",
       "24       7\n",
       "25       6\n",
       "26       6\n",
       "28       1\n",
       "29       1\n",
       "Name: stop_words, dtype: int64"
      ]
     },
     "execution_count": 8,
     "metadata": {},
     "output_type": "execute_result"
    }
   ],
   "source": [
    "#Count the number of stopwords in the data\n",
    "temp =df_train.copy()\n",
    "stop_words = set(stopwords.words(\"english\"))\n",
    "temp['stop_words'] = temp['Text'].apply(lambda x: len(set(x.split()) & set(stop_words)))\n",
    "temp.stop_words.value_counts()"
   ]
  },
  {
   "cell_type": "code",
   "execution_count": 9,
   "id": "a79d653e",
   "metadata": {},
   "outputs": [
    {
     "data": {
      "text/plain": [
       "<Axes: ylabel='Frequency'>"
      ]
     },
     "execution_count": 9,
     "metadata": {},
     "output_type": "execute_result"
    },
    {
     "data": {
      "image/png": "[encoded data removed]",
      "text/plain": [
       "<Figure size 640x480 with 1 Axes>"
      ]
     },
     "metadata": {},
     "output_type": "display_data"
    }
   ],
   "source": [
    "#distribution of stopwords visually\n",
    "temp['stop_words'].plot(kind= 'hist')"
   ]
  },
  {
   "cell_type": "code",
   "execution_count": 10,
   "id": "2101af32",
   "metadata": {},
   "outputs": [],
   "source": [
    "def lemmatization(text):\n",
    "    lemmatizer= WordNetLemmatizer()\n",
    "\n",
    "    text = text.split()\n",
    "    \n",
    "\n",
    "    text=[lemmatizer.lemmatize(y) for y in text]\n",
    "    \n",
    "    return \" \" .join(text)\n",
    "\n",
    "def remove_stop_words(text):\n",
    "\n",
    "    Text=[i for i in str(text).split() if i not in stop_words]\n",
    "    return \" \".join(Text)\n",
    "\n",
    "def Removing_numbers(text):\n",
    "    text=''.join([i for i in text if not i.isdigit()])\n",
    "    return text\n",
    "\n",
    "def lower_case(text):\n",
    "    \n",
    "    text = text.split()\n",
    "\n",
    "    text=[y.lower() for y in text]\n",
    "    \n",
    "    return \" \" .join(text)\n",
    "\n",
    "def Removing_punctuations(text):\n",
    "    ## Remove punctuations\n",
    "    text = re.sub('[%s]' % re.escape(\"\"\"!\"#$%&'()*+,،-./:;<=>؟?@[\\]^_`{|}~\"\"\"), ' ', text)\n",
    "    text = text.replace('؛',\"\", )\n",
    "    \n",
    "    ## remove extra whitespace\n",
    "    text = re.sub('\\s+', ' ', text)\n",
    "    text =  \" \".join(text.split())\n",
    "    return text.strip()\n",
    "\n",
    "def Removing_urls(text):\n",
    "    url_pattern = re.compile(r'https?://\\S+|www\\.\\S+')\n",
    "    return url_pattern.sub(r'', text)\n",
    "\n",
    "def remove_small_sentences(df):\n",
    "    for i in range(len(df)):\n",
    "        if len(df.text.iloc[i].split()) < 3:\n",
    "            df.text.iloc[i] = np.nan\n",
    "            \n",
    "def normalize_text(df):\n",
    "    df.Text=df.Text.apply(lambda text : lower_case(text))\n",
    "    df.Text=df.Text.apply(lambda text : remove_stop_words(text))\n",
    "    df.Text=df.Text.apply(lambda text : Removing_numbers(text))\n",
    "    df.Text=df.Text.apply(lambda text : Removing_punctuations(text))\n",
    "    df.Text=df.Text.apply(lambda text : Removing_urls(text))\n",
    "    df.Text=df.Text.apply(lambda text : lemmatization(text))\n",
    "    return df\n",
    "\n",
    "def normalized_sentence(sentence):\n",
    "    sentence= lower_case(sentence)\n",
    "    sentence= remove_stop_words(sentence)\n",
    "    sentence= Removing_numbers(sentence)\n",
    "    sentence= Removing_punctuations(sentence)\n",
    "    sentence= Removing_urls(sentence)\n",
    "    sentence= lemmatization(sentence)\n",
    "    return sentence"
   ]
  },
  {
   "cell_type": "code",
   "execution_count": 12,
   "id": "d481431c",
   "metadata": {},
   "outputs": [],
   "source": [
    "df_train= normalize_text(df_train)\n",
    "df_test= normalize_text(df_test)\n",
    "df_val= normalize_text(df_val)"
   ]
  },
  {
   "cell_type": "code",
   "execution_count": 13,
   "id": "352ab0f8",
   "metadata": {},
   "outputs": [],
   "source": [
    "#Splitting the text from the labels\n",
    "X_train = df_train['Text']\n",
    "y_train = df_train['Emotion']\n",
    "\n",
    "X_test = df_test['Text']\n",
    "y_test = df_test['Emotion']\n",
    "\n",
    "X_val = df_val['Text']\n",
    "y_val = df_val['Emotion']"
   ]
  },
  {
   "cell_type": "code",
   "execution_count": 14,
   "id": "22f95b53",
   "metadata": {},
   "outputs": [
    {
     "name": "stdout",
     "output_type": "stream",
     "text": [
      "0        sadness\n",
      "1        sadness\n",
      "2          anger\n",
      "3           love\n",
      "4          anger\n",
      "          ...   \n",
      "15964    sadness\n",
      "15965    sadness\n",
      "15966        joy\n",
      "15967      anger\n",
      "15968    sadness\n",
      "Name: Emotion, Length: 15969, dtype: object\n"
     ]
    },
    {
     "data": {
      "text/plain": [
       "array([4, 4, 0, ..., 2, 0, 4])"
      ]
     },
     "execution_count": 14,
     "metadata": {},
     "output_type": "execute_result"
    }
   ],
   "source": [
    "# Encode labels\n",
    "print(y_train)\n",
    "le = LabelEncoder()\n",
    "y_train = le.fit_transform(y_train)\n",
    "y_test = le.transform(y_test)\n",
    "y_val = le.transform(y_val)\n",
    "y_train"
   ]
  },
  {
   "cell_type": "code",
   "execution_count": 15,
   "id": "3dc2fcd7",
   "metadata": {},
   "outputs": [],
   "source": [
    "#Convert the class vector (integers) to binary class matrix\n",
    "y_train = to_categorical(y_train)\n",
    "y_test = to_categorical(y_test)\n",
    "y_val = to_categorical(y_val)"
   ]
  },
  {
   "cell_type": "code",
   "execution_count": 16,
   "id": "2db93d4b",
   "metadata": {},
   "outputs": [
    {
     "name": "stdout",
     "output_type": "stream",
     "text": [
      "[[0. 0. 0. 0. 1. 0.]\n",
      " [0. 0. 0. 0. 1. 0.]\n",
      " [1. 0. 0. 0. 0. 0.]\n",
      " ...\n",
      " [0. 0. 1. 0. 0. 0.]\n",
      " [1. 0. 0. 0. 0. 0.]\n",
      " [0. 0. 0. 0. 1. 0.]]\n"
     ]
    }
   ],
   "source": [
    "print(y_train)"
   ]
  },
  {
   "cell_type": "code",
   "execution_count": 17,
   "id": "705f0131",
   "metadata": {},
   "outputs": [],
   "source": [
    "# Tokenize words\n",
    "tokenizer = Tokenizer(oov_token='UNK')\n",
    "tokenizer.fit_on_texts(pd.concat([X_train, X_test], axis=0))"
   ]
  },
  {
   "cell_type": "code",
   "execution_count": 18,
   "id": "27dce282",
   "metadata": {},
   "outputs": [
    {
     "data": {
      "text/plain": [
       "17969"
      ]
     },
     "execution_count": 18,
     "metadata": {},
     "output_type": "execute_result"
    }
   ],
   "source": [
    "tokenizer.document_count"
   ]
  },
  {
   "cell_type": "code",
   "execution_count": 19,
   "id": "55f41a27",
   "metadata": {},
   "outputs": [
    {
     "data": {
      "text/plain": [
       "[[53], [2], [531]]"
      ]
     },
     "execution_count": 19,
     "metadata": {},
     "output_type": "execute_result"
    }
   ],
   "source": [
    "tokenizer.texts_to_sequences(X_train[0].split())"
   ]
  },
  {
   "cell_type": "code",
   "execution_count": 20,
   "id": "3be082d9",
   "metadata": {},
   "outputs": [
    {
     "data": {
      "text/plain": [
       "array([[0., 0., 0., ..., 0., 0., 0.],\n",
       "       [0., 0., 1., ..., 0., 0., 0.],\n",
       "       [0., 0., 0., ..., 0., 0., 0.]])"
      ]
     },
     "execution_count": 20,
     "metadata": {},
     "output_type": "execute_result"
    }
   ],
   "source": [
    "tokenizer.texts_to_matrix(X_train[0].split())"
   ]
  },
  {
   "cell_type": "code",
   "execution_count": 21,
   "id": "05e21be0",
   "metadata": {},
   "outputs": [
    {
     "data": {
      "text/plain": [
       "(3, 14325)"
      ]
     },
     "execution_count": 21,
     "metadata": {},
     "output_type": "execute_result"
    }
   ],
   "source": [
    "tokenizer.texts_to_matrix(X_train[0].split()).shape"
   ]
  },
  {
   "cell_type": "code",
   "execution_count": 22,
   "id": "97d88b24",
   "metadata": {},
   "outputs": [],
   "source": [
    "sequences_train = tokenizer.texts_to_sequences(X_train)\n",
    "sequences_test = tokenizer.texts_to_sequences(X_test)\n",
    "sequences_val = tokenizer.texts_to_sequences(X_val)"
   ]
  },
  {
   "cell_type": "code",
   "execution_count": 23,
   "id": "a084386b",
   "metadata": {},
   "outputs": [
    {
     "data": {
      "text/plain": [
       "(2000, 2)"
      ]
     },
     "execution_count": 23,
     "metadata": {},
     "output_type": "execute_result"
    }
   ],
   "source": [
    "df_test.shape"
   ]
  },
  {
   "cell_type": "code",
   "execution_count": 24,
   "id": "d9127192",
   "metadata": {},
   "outputs": [
    {
     "data": {
      "text/plain": [
       "229"
      ]
     },
     "execution_count": 24,
     "metadata": {},
     "output_type": "execute_result"
    }
   ],
   "source": [
    "maxlen = max([len(t) for t in df_train['Text']])\n",
    "maxlen"
   ]
  },
  {
   "cell_type": "code",
   "execution_count": 25,
   "id": "a0362475",
   "metadata": {},
   "outputs": [
    {
     "name": "stdout",
     "output_type": "stream",
     "text": [
      "Vocabulary size = 14325\n"
     ]
    }
   ],
   "source": [
    "X_train = pad_sequences(sequences_train, maxlen=229, truncating='pre')\n",
    "X_test = pad_sequences(sequences_test, maxlen=229, truncating='pre')\n",
    "X_val = pad_sequences(sequences_val, maxlen=229, truncating='pre')\n",
    "\n",
    "vocabSize = len(tokenizer.index_word) + 1\n",
    "print(f\"Vocabulary size = {vocabSize}\")"
   ]
  },
  {
   "cell_type": "code",
   "execution_count": 26,
   "id": "49bd2941",
   "metadata": {},
   "outputs": [
    {
     "data": {
      "text/plain": [
       "[53, 2, 531]"
      ]
     },
     "execution_count": 26,
     "metadata": {},
     "output_type": "execute_result"
    }
   ],
   "source": [
    "sequences_train[0]"
   ]
  },
  {
   "cell_type": "code",
   "execution_count": 27,
   "id": "4c77489f",
   "metadata": {},
   "outputs": [],
   "source": [
    "path_to_glove_file = 'glove.6B.100d.txt'\n",
    "num_tokens = vocabSize\n",
    "embedding_dim = 100 #latent factors or features  \n",
    "hits = 0\n",
    "misses = 0\n",
    "embeddings_index = {}"
   ]
  },
  {
   "cell_type": "code",
   "execution_count": 28,
   "id": "0c9d05e5",
   "metadata": {},
   "outputs": [
    {
     "name": "stdout",
     "output_type": "stream",
     "text": [
      "Found 400000 word vectors.\n",
      "Converted 13243 words (1081 misses)\n"
     ]
    }
   ],
   "source": [
    "# Read word vectors\n",
    "with open(path_to_glove_file,encoding='utf-8') as f:\n",
    "    for line in f:\n",
    "        word, coefs = line.split(maxsplit=1)\n",
    "        coefs = np.fromstring(coefs, \"f\", sep=\" \")\n",
    "        embeddings_index[word] = coefs\n",
    "print(\"Found %s word vectors.\" % len(embeddings_index))\n",
    "\n",
    "# Assign word vectors to our dictionary/vocabulary\n",
    "embedding_matrix = np.zeros((num_tokens, embedding_dim))\n",
    "for word, i in tokenizer.word_index.items():\n",
    "    embedding_vector = embeddings_index.get(word)\n",
    "    if embedding_vector is not None:\n",
    "        # Words not found in embedding index will be all-zeros.\n",
    "        # This includes the representation for \"padding\" and \"OOV\"\n",
    "        embedding_matrix[i] = embedding_vector\n",
    "        hits += 1\n",
    "    else:\n",
    "        misses += 1\n",
    "print(\"Converted %d words (%d misses)\" % (hits, misses))\n"
   ]
  },
  {
   "cell_type": "code",
   "execution_count": 29,
   "id": "3dfb0370",
   "metadata": {},
   "outputs": [
    {
     "name": "stdout",
     "output_type": "stream",
     "text": [
      "Model: \"sequential\"\n",
      "_________________________________________________________________\n",
      " Layer (type)                Output Shape              Param #   \n",
      "=================================================================\n",
      " embedding (Embedding)       (None, 229, 100)          1432500   \n",
      "                                                                 \n",
      " bidirectional (Bidirection  (None, 229, 128)          84480     \n",
      " al)                                                             \n",
      "                                                                 \n",
      " bidirectional_1 (Bidirecti  (None, 64)                41216     \n",
      " onal)                                                           \n",
      "                                                                 \n",
      " dense (Dense)               (None, 6)                 390       \n",
      "                                                                 \n",
      "=================================================================\n",
      "Total params: 1558586 (5.95 MB)\n",
      "Trainable params: 126086 (492.52 KB)\n",
      "Non-trainable params: 1432500 (5.46 MB)\n",
      "_________________________________________________________________\n"
     ]
    }
   ],
   "source": [
    "\n",
    "adam = Adam(learning_rate=0.005)\n",
    "\n",
    "model = Sequential()\n",
    "model.add(Embedding(vocabSize, 100, input_length=X_train.shape[1], weights=[embedding_matrix], trainable=False))\n",
    "# model.add(Bidirectional(LSTM(64, dropout=0.2,recurrent_dropout=0.2, return_sequences=True)))\n",
    "model.add(Bidirectional(LSTM(64, dropout=0.2,recurrent_dropout=0.2, return_sequences=True)))\n",
    "model.add(Bidirectional(LSTM(32, dropout=0.2,recurrent_dropout=0.2)))\n",
    "model.add(Dense(6, activation='softmax'))\n",
    "\n",
    "model.compile(loss='categorical_crossentropy', optimizer=adam, metrics=['accuracy'])\n",
    "model.summary()"
   ]
  },
  {
   "cell_type": "code",
   "execution_count": 30,
   "id": "7e7e9982",
   "metadata": {},
   "outputs": [],
   "source": [
    "#to stop the training when the loss starts to increase\n",
    "callback = EarlyStopping(\n",
    "    monitor=\"val_loss\",\n",
    "    patience=4,\n",
    "    restore_best_weights=True,\n",
    ")"
   ]
  },
  {
   "cell_type": "code",
   "execution_count": 31,
   "id": "a45fff33",
   "metadata": {},
   "outputs": [
    {
     "name": "stdout",
     "output_type": "stream",
     "text": [
      "Epoch 1/7\n",
      "320/320 [==============================] - 597s 2s/step - loss: 0.9671 - accuracy: 0.6371 - val_loss: 0.4220 - val_accuracy: 0.8585\n",
      "Epoch 2/7\n",
      "320/320 [==============================] - 617s 2s/step - loss: 0.3544 - accuracy: 0.8706 - val_loss: 0.2103 - val_accuracy: 0.9180\n",
      "Epoch 3/7\n",
      "320/320 [==============================] - 643s 2s/step - loss: 0.2100 - accuracy: 0.9178 - val_loss: 0.1773 - val_accuracy: 0.9220\n",
      "Epoch 4/7\n",
      "320/320 [==============================] - 690s 2s/step - loss: 0.1600 - accuracy: 0.9321 - val_loss: 0.1473 - val_accuracy: 0.9340\n",
      "Epoch 5/7\n",
      "320/320 [==============================] - 709s 2s/step - loss: 0.1348 - accuracy: 0.9387 - val_loss: 0.1301 - val_accuracy: 0.9310\n",
      "Epoch 6/7\n",
      "320/320 [==============================] - 747s 2s/step - loss: 0.1213 - accuracy: 0.9451 - val_loss: 0.1198 - val_accuracy: 0.9370\n",
      "Epoch 7/7\n",
      "320/320 [==============================] - 779s 2s/step - loss: 0.1159 - accuracy: 0.9455 - val_loss: 0.1266 - val_accuracy: 0.9355\n"
     ]
    }
   ],
   "source": [
    "# Fit model\n",
    "history = model.fit(X_train,\n",
    "                    y_train,\n",
    "                    validation_data=(X_val, y_val),\n",
    "                    verbose=1,\n",
    "                    batch_size=50,\n",
    "                    epochs=7,\n",
    "                    callbacks=[callback]\n",
    "                   )"
   ]
  },
  {
   "cell_type": "code",
   "execution_count": 32,
   "id": "9a68f52f",
   "metadata": {},
   "outputs": [
    {
     "name": "stdout",
     "output_type": "stream",
     "text": [
      "63/63 [==============================] - 35s 544ms/step - loss: 0.1266 - accuracy: 0.9355\n"
     ]
    },
    {
     "data": {
      "text/plain": [
       "[0.12663857638835907, 0.9355000257492065]"
      ]
     },
     "execution_count": 32,
     "metadata": {},
     "output_type": "execute_result"
    }
   ],
   "source": [
    "model.evaluate(X_val, y_val, verbose=1) "
   ]
  },
  {
   "cell_type": "code",
   "execution_count": 33,
   "id": "a4b029d0",
   "metadata": {},
   "outputs": [
    {
     "name": "stdout",
     "output_type": "stream",
     "text": [
      "63/63 [==============================] - 34s 541ms/step - loss: 0.1499 - accuracy: 0.9280\n"
     ]
    },
    {
     "data": {
      "text/plain": [
       "[0.14991454780101776, 0.9279999732971191]"
      ]
     },
     "execution_count": 33,
     "metadata": {},
     "output_type": "execute_result"
    }
   ],
   "source": [
    "model.evaluate(X_test, y_test, verbose=1) "
   ]
  },
  {
   "cell_type": "code",
   "execution_count": 34,
   "id": "ab4b939b",
   "metadata": {},
   "outputs": [
    {
     "name": "stdout",
     "output_type": "stream",
     "text": [
      "63/63 [==============================] - 35s 535ms/step\n",
      "              precision    recall  f1-score   support\n",
      "\n",
      "           0       0.91      0.92      0.92       275\n",
      "           1       0.89      0.92      0.91       224\n",
      "           2       0.96      0.93      0.94       695\n",
      "           3       0.82      0.87      0.84       159\n",
      "           4       0.95      0.97      0.96       581\n",
      "           5       0.91      0.65      0.76        66\n",
      "\n",
      "    accuracy                           0.93      2000\n",
      "   macro avg       0.91      0.88      0.89      2000\n",
      "weighted avg       0.93      0.93      0.93      2000\n",
      "\n"
     ]
    }
   ],
   "source": [
    "predicted = model.predict(X_test)\n",
    "y_pred = predicted.argmax(axis=-1)\n",
    "\n",
    "print(classification_report(le.transform(df_test['Emotion']), y_pred))"
   ]
  },
  {
   "cell_type": "code",
   "execution_count": 35,
   "id": "c5fa8109",
   "metadata": {},
   "outputs": [
    {
     "data": {
      "image/png": "[encoded data removed]",
      "text/plain": [
       "<Figure size 640x480 with 1 Axes>"
      ]
     },
     "metadata": {},
     "output_type": "display_data"
    },
    {
     "data": {
      "image/png": "[encoded data removed]",
      "text/plain": [
       "<Figure size 640x480 with 1 Axes>"
      ]
     },
     "metadata": {},
     "output_type": "display_data"
    }
   ],
   "source": [
    "# Visualize Loss & Accuracy\n",
    "\n",
    "%matplotlib inline\n",
    "import matplotlib.pyplot as plt\n",
    "acc = history.history['accuracy']\n",
    "val_acc = history.history['val_accuracy']\n",
    "loss = history.history['loss']\n",
    "val_loss = history.history['val_loss']\n",
    "\n",
    "epochs = range(len(acc))\n",
    "\n",
    "plt.plot(epochs, acc, 'r', label='Training accuracy')\n",
    "plt.plot(epochs, val_acc, 'b', label='Validation accuracy')\n",
    "plt.title('Training and validation accuracy')\n",
    "plt.legend()\n",
    "plt.figure()\n",
    "\n",
    "plt.plot(epochs, loss, 'r', label='Training Loss')\n",
    "plt.plot(epochs, val_loss, 'b', label='Validation Loss')\n",
    "plt.title('Training and validation loss')\n",
    "plt.legend()\n",
    "\n",
    "plt.show()"
   ]
  },
  {
   "cell_type": "code",
   "execution_count": 41,
   "id": "faa560e6",
   "metadata": {},
   "outputs": [
    {
     "name": "stdout",
     "output_type": "stream",
     "text": [
      "Hosted a little surprise party for my dear friend Kamal. 🥳 Swipe for the reveal!\n",
      "1/1 [==============================] - 0s 61ms/step\n",
      "1/1 [==============================] - 0s 59ms/step\n",
      "anger : 0.6607057452201843\n",
      "\n",
      "\n"
     ]
    }
   ],
   "source": [
    "# sentence= 'Hosted a little surprise party for my dear friend Kamal. 🥳 Swipe for the reveal!'\n",
    "# print(sentence)\n",
    "# sentence = normalized_sentence(sentence)\n",
    "# sentence = tokenizer.texts_to_sequences([sentence])\n",
    "# sentence = pad_sequences(sentence, maxlen=229, truncating='pre')\n",
    "# result = le.inverse_transform(np.argmax(model.predict(sentence), axis=-1))[0]\n",
    "# proba =  np.max(model.predict(sentence))\n",
    "# print(f\"{result} : {proba}\\n\\n\")"
   ]
  },
  {
   "cell_type": "code",
   "execution_count": 44,
   "id": "7f89bc2b",
   "metadata": {},
   "outputs": [
    {
     "name": "stderr",
     "output_type": "stream",
     "text": [
      "C:\\Users\\ADITYA\\anaconda3\\Lib\\site-packages\\keras\\src\\engine\\training.py:3000: UserWarning: You are saving your model as an HDF5 file via `model.save()`. This file format is considered legacy. We recommend using instead the native Keras format, e.g. `model.save('my_model.keras')`.\n",
      "  saving_api.save_model(\n"
     ]
    }
   ],
   "source": [
    "model.save(\"emotion_predict_model.h5\")"
   ]
  },
  {
   "cell_type": "code",
   "execution_count": 59,
   "id": "7a731f7f",
   "metadata": {},
   "outputs": [
    {
     "name": "stdout",
     "output_type": "stream",
     "text": [
      "1/1 [==============================] - 1s 880ms/step\n",
      "Predicted Emotion: sadness\n",
      "Emotion Probabilities: [0.13443848 0.11114135 0.2696692  0.07082653 0.31912252 0.0948019 ]\n"
     ]
    }
   ],
   "source": [
    "import re\n",
    "import string\n",
    "import numpy as np\n",
    "import pandas as pd\n",
    "import nltk\n",
    "from nltk.corpus import stopwords\n",
    "from nltk.stem import WordNetLemmatizer\n",
    "from tensorflow.keras.preprocessing.text import Tokenizer\n",
    "from tensorflow.keras.preprocessing.sequence import pad_sequences\n",
    "from sklearn.preprocessing import LabelEncoder\n",
    "from tensorflow.keras.models import load_model\n",
    "\n",
    "# Function for text normalization\n",
    "def normalize_text(text):\n",
    "    lemmatizer = WordNetLemmatizer()\n",
    "    stop_words = set(stopwords.words(\"english\"))\n",
    "\n",
    "    text = text.lower()\n",
    "    text = re.sub(r'[^\\w\\s]', '', text)  # Remove punctuation\n",
    "    words = text.split()\n",
    "    words = [lemmatizer.lemmatize(word) for word in words if word not in stop_words]\n",
    "    return ' '.join(words)\n",
    "\n",
    "# Function to predict emotion\n",
    "def predict_emotion(text):\n",
    "    # Load the trained model\n",
    "    model = load_model('emotion_predict_model.h5')  # Replace with the path to your trained model\n",
    "\n",
    "    # Text normalization\n",
    "    normalized_text = normalize_text(text)\n",
    "\n",
    "    # Tokenize and pad the input text\n",
    "    tokenizer = Tokenizer(oov_token='UNK')\n",
    "    tokenizer.fit_on_texts([normalized_text])\n",
    "    sequences = tokenizer.texts_to_sequences([normalized_text])\n",
    "    padded_sequences = pad_sequences(sequences, maxlen=229, truncating='pre')\n",
    "\n",
    "    # Make the prediction\n",
    "    predicted_probs = model.predict(padded_sequences)\n",
    "    predicted_class = np.argmax(predicted_probs, axis=-1)\n",
    "\n",
    "    # Map the predicted class back to the original emotion label (use the LabelEncoder)\n",
    "    label_encoder = LabelEncoder()\n",
    "    label_encoder.classes_ = np.array(['anger','fear','joy','love','sadness','surprise'])  # Replace with your class labels\n",
    "    predicted_emotion = label_encoder.inverse_transform(predicted_class)\n",
    "\n",
    "    return predicted_emotion[0], predicted_probs[0]\n",
    "\n",
    "# Example usage:\n",
    "input_text = \"cake\"\n",
    "predicted_emotion, predicted_probs = predict_emotion(input_text)\n",
    "print(f\"Predicted Emotion: {predicted_emotion}\")\n",
    "print(f\"Emotion Probabilities: {predicted_probs}\")\n"
   ]
  },
  {
   "cell_type": "code",
   "execution_count": 61,
   "id": "84c7fe2a",
   "metadata": {},
   "outputs": [],
   "source": [
    "import pickle\n",
    "model_filename = \"emo_model.pkl\"\n",
    "with open(model_filename, 'wb') as model_file:\n",
    "    pickle.dump(model, model_file)"
   ]
  },
  {
   "cell_type": "code",
   "execution_count": 62,
   "id": "d395415c",
   "metadata": {},
   "outputs": [],
   "source": [
    "# Save the Tokenizer as a .pkl file\n",
    "tokenizer_filename = \"tokenizer_emo.pkl\"\n",
    "with open(tokenizer_filename, 'wb') as tokenizer_file:\n",
    "    pickle.dump(tokenizer, tokenizer_file)\n"
   ]
  }
 ],
 "metadata": {
  "kernelspec": {
   "display_name": "Python 3 (ipykernel)",
   "language": "python",
   "name": "python3"
  },
  "language_info": {
   "codemirror_mode": {
    "name": "ipython",
    "version": 3
   },
   "file_extension": ".py",
   "mimetype": "text/x-python",
   "name": "python",
   "nbconvert_exporter": "python",
   "pygments_lexer": "ipython3",
   "version": "3.11.4"
  }
 },
 "nbformat": 4,
 "nbformat_minor": 5
}
